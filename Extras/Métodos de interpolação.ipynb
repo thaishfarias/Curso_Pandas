{
 "cells": [
  {
   "cell_type": "code",
   "execution_count": 15,
   "metadata": {},
   "outputs": [
    {
     "data": {
      "text/plain": [
       "0     0.50\n",
       "1     0.50\n",
       "2     0.51\n",
       "3     0.51\n",
       "4      NaN\n",
       "5     0.54\n",
       "6     0.55\n",
       "7     0.55\n",
       "8      NaN\n",
       "9      NaN\n",
       "10    0.60\n",
       "dtype: float64"
      ]
     },
     "execution_count": 15,
     "metadata": {},
     "output_type": "execute_result"
    }
   ],
   "source": [
    "import pandas as pd\n",
    "data = [0.5, None, 0.51, None, None, 0.54, 0.55, None, None, None, 0.6]\n",
    "s = pd.Series(data)\n",
    "#O 'fillna' preenche os espaços None e o 'ffill' repete no espaço None o valor que tinha acima. O 'limit' dá um limite de repetições dos números\n",
    "s.fillna(method = \"ffill\", limit = 1)"
   ]
  },
  {
   "cell_type": "code",
   "execution_count": 13,
   "metadata": {},
   "outputs": [
    {
     "data": {
      "text/plain": [
       "0     0.50\n",
       "1     0.51\n",
       "2     0.51\n",
       "3     0.54\n",
       "4     0.54\n",
       "5     0.54\n",
       "6     0.55\n",
       "7     0.60\n",
       "8     0.60\n",
       "9     0.60\n",
       "10    0.60\n",
       "dtype: float64"
      ]
     },
     "execution_count": 13,
     "metadata": {},
     "output_type": "execute_result"
    }
   ],
   "source": [
    "#Ao contrário do 'ffill', o 'bfill' preenche os valores, porém de baixo para cima\n",
    "s.fillna(method = \"bfill\")"
   ]
  },
  {
   "cell_type": "code",
   "execution_count": 14,
   "metadata": {},
   "outputs": [
    {
     "data": {
      "text/plain": [
       "0     0.50\n",
       "1     0.54\n",
       "2     0.51\n",
       "3     0.54\n",
       "4     0.54\n",
       "5     0.54\n",
       "6     0.55\n",
       "7     0.54\n",
       "8     0.54\n",
       "9     0.54\n",
       "10    0.60\n",
       "dtype: float64"
      ]
     },
     "execution_count": 14,
     "metadata": {},
     "output_type": "execute_result"
    }
   ],
   "source": [
    "#Também é possível fazer o preenchimento com as médias\n",
    "s.fillna(s.mean())"
   ]
  },
  {
   "cell_type": "code",
   "execution_count": null,
   "metadata": {},
   "outputs": [],
   "source": []
  }
 ],
 "metadata": {
  "kernelspec": {
   "display_name": "Python 3",
   "language": "python",
   "name": "python3"
  },
  "language_info": {
   "codemirror_mode": {
    "name": "ipython",
    "version": 3
   },
   "file_extension": ".py",
   "mimetype": "text/x-python",
   "name": "python",
   "nbconvert_exporter": "python",
   "pygments_lexer": "ipython3",
   "version": "3.8.3"
  }
 },
 "nbformat": 4,
 "nbformat_minor": 4
}
